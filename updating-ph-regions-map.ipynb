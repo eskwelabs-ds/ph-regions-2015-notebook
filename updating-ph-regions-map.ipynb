{
 "cells": [
  {
   "cell_type": "markdown",
   "metadata": {},
   "source": [
    "# Updating PH Regions Map\n",
    "This notebook uses Geopandas and Shapely to generate updated shape files for the Philippine map, reflecting changes in regional boundaries as a result of the [creation of the Negros Island Region (NIR)](http://www.rappler.com/nation/95377-aquino-creates-negros-island-region) in 2015. As I've pointed out in a [previous notebook](https://github.com/ralphqq/inflation_by_region/blob/master/inflation_by_region.ipynb), I've been unable to find open Philippine GIS data sources that already include this adjustment. So, let's do the next best thing and try to create it ourselves.\n",
    "\n",
    "## Some Preliminaries\n",
    "The original shape files used here are downloaded from the following:\n",
    "\n",
    "* [**PhilGIS.org**](http://philgis.org/) - for the regions shape files.\n",
    "* [**GADM Database**](http://www.gadm.org/download) - for the provincial-level shape files.\n",
    "\n",
    "**IMPORTANT:** Because of the license terms accompanying the shape files downloaded from the GDAM Database, I did not push those files into this repository. So, in order to run this notebook, please do the following:\n",
    "\n",
    "1. Go to the [GDAM download page](http://www.gadm.org/download).\n",
    "2. Choose country data for the Philippines and hit download.\n",
    "3. Unzip the downloaded zip file.\n",
    "4. Copy the files with extensions .shp, .dbf, and .shx into the directory named `Original` of this project.\n",
    "\n",
    "I've also created a csv file containing the 18 regions' respective PSGG codes using data from a [PSA Provinces Summary (2016](http://www.nscb.gov.ph/activestats/psgc/SUMWEBPROV-JUNE2016-CODED-HUC-FINAL.pdf) file. We'll use this later on for easier merging.\n",
    "\n",
    "To run this notebook, you need to have Geopandas and Shapely **properly installed**. Please see the README file in the root of this repo for the full list of dependencies, and also go through this very helpful [installation tutorial](http://geoffboeing.com/2014/09/using-geopandas-windows/) by Jeff Boeing if you're running this on a Windows machine.\n",
    "\n",
    "We'll also be using another third-party package `fuzzywuzzy` to help us with matching identical text in our region names. Again, please see the README file for more on installing that package.\n",
    "\n",
    "Now for the imports:"
   ]
  },
  {
   "cell_type": "code",
   "execution_count": 1,
   "metadata": {
    "collapsed": true
   },
   "outputs": [],
   "source": [
    "% matplotlib inline\n",
    "import geopandas as gpd\n",
    "import matplotlib.pyplot as plt\n",
    "import pandas as pd\n",
    "from fuzzywuzzy import process"
   ]
  },
  {
   "cell_type": "markdown",
   "metadata": {},
   "source": [
    "## Reading the Shape Files and PSGG Code File\n",
    "The shape files are located in the `Original` directory, while the PSGG file is in the root."
   ]
  },
  {
   "cell_type": "code",
   "execution_count": 2,
   "metadata": {
    "collapsed": false
   },
   "outputs": [],
   "source": [
    "regions = gpd.GeoDataFrame.from_file('Original/Regions.shp')\n",
    "provinces = gpd.GeoDataFrame.from_file('Original/PHL_adm1.shp')\n",
    "psgg_code = pd.read_csv('psgg_codes.csv', dtype=object)"
   ]
  },
  {
   "cell_type": "markdown",
   "metadata": {},
   "source": [
    "## Previewing the Data\n",
    "Let's see if everything checks out."
   ]
  },
  {
   "cell_type": "code",
   "execution_count": 3,
   "metadata": {
    "collapsed": false
   },
   "outputs": [
    {
     "data": {
      "text/plain": [
       "(17, 2)"
      ]
     },
     "execution_count": 3,
     "metadata": {},
     "output_type": "execute_result"
    }
   ],
   "source": [
    "regions.shape"
   ]
  },
  {
   "cell_type": "code",
   "execution_count": 4,
   "metadata": {
    "collapsed": false
   },
   "outputs": [
    {
     "data": {
      "text/html": [
       "<div>\n",
       "<table border=\"1\" class=\"dataframe\">\n",
       "  <thead>\n",
       "    <tr style=\"text-align: right;\">\n",
       "      <th></th>\n",
       "      <th>REGION</th>\n",
       "      <th>geometry</th>\n",
       "    </tr>\n",
       "  </thead>\n",
       "  <tbody>\n",
       "    <tr>\n",
       "      <th>0</th>\n",
       "      <td>Autonomous Region of Muslim Mindanao (ARMM)</td>\n",
       "      <td>(POLYGON ((119.4669418334962 4.586939811706523...</td>\n",
       "    </tr>\n",
       "    <tr>\n",
       "      <th>1</th>\n",
       "      <td>Bicol Region (Region V)</td>\n",
       "      <td>(POLYGON ((122.9841690063476 11.71055984497071...</td>\n",
       "    </tr>\n",
       "    <tr>\n",
       "      <th>2</th>\n",
       "      <td>CALABARZON (Region IV-A)</td>\n",
       "      <td>(POLYGON ((125.2216567993167 10.43443965911868...</td>\n",
       "    </tr>\n",
       "    <tr>\n",
       "      <th>3</th>\n",
       "      <td>Cagayan Valley (Region II)</td>\n",
       "      <td>(POLYGON ((122.4703979492188 16.91995048522949...</td>\n",
       "    </tr>\n",
       "    <tr>\n",
       "      <th>4</th>\n",
       "      <td>Caraga (Region XIII)</td>\n",
       "      <td>(POLYGON ((126.417503356934 7.964169979095546,...</td>\n",
       "    </tr>\n",
       "    <tr>\n",
       "      <th>5</th>\n",
       "      <td>Central Luzon (Region III)</td>\n",
       "      <td>(POLYGON ((120.6236267089844 14.36787986755386...</td>\n",
       "    </tr>\n",
       "    <tr>\n",
       "      <th>6</th>\n",
       "      <td>Central Visayas (Region VII)</td>\n",
       "      <td>(POLYGON ((123.2711105346679 9.084759712219269...</td>\n",
       "    </tr>\n",
       "    <tr>\n",
       "      <th>7</th>\n",
       "      <td>Cordillera Administrative Region (CAR)</td>\n",
       "      <td>POLYGON ((121.3767929077149 17.95472908020015,...</td>\n",
       "    </tr>\n",
       "    <tr>\n",
       "      <th>8</th>\n",
       "      <td>Davao Region (Region XI)</td>\n",
       "      <td>(POLYGON ((125.3977813720705 5.435830116271932...</td>\n",
       "    </tr>\n",
       "    <tr>\n",
       "      <th>9</th>\n",
       "      <td>Eastern Visayas (Region VIII)</td>\n",
       "      <td>(POLYGON ((125.0736083984376 9.89472007751475,...</td>\n",
       "    </tr>\n",
       "    <tr>\n",
       "      <th>10</th>\n",
       "      <td>Ilocos Region (Region I)</td>\n",
       "      <td>(POLYGON ((119.8650512695319 15.81169986724875...</td>\n",
       "    </tr>\n",
       "    <tr>\n",
       "      <th>11</th>\n",
       "      <td>MIMAROPA (Region IV-B)</td>\n",
       "      <td>(POLYGON ((117.3138885498046 7.514170169830424...</td>\n",
       "    </tr>\n",
       "    <tr>\n",
       "      <th>12</th>\n",
       "      <td>Metropolitan Manila</td>\n",
       "      <td>(POLYGON ((120.9797210693363 14.49305534362795...</td>\n",
       "    </tr>\n",
       "    <tr>\n",
       "      <th>13</th>\n",
       "      <td>Northern Mindanao (Region X)</td>\n",
       "      <td>(POLYGON ((123.6219329833985 7.828589916229499...</td>\n",
       "    </tr>\n",
       "    <tr>\n",
       "      <th>14</th>\n",
       "      <td>SOCCSKSARGEN (Region XII)</td>\n",
       "      <td>POLYGON ((124.5379867553711 7.681869983673105,...</td>\n",
       "    </tr>\n",
       "    <tr>\n",
       "      <th>15</th>\n",
       "      <td>Western Visayas (Region VI)</td>\n",
       "      <td>(POLYGON ((122.4352188110355 9.643819808960162...</td>\n",
       "    </tr>\n",
       "    <tr>\n",
       "      <th>16</th>\n",
       "      <td>Zamboanga Peninsula (Region IX)</td>\n",
       "      <td>(POLYGON ((122.0622329711914 6.872779846191344...</td>\n",
       "    </tr>\n",
       "  </tbody>\n",
       "</table>\n",
       "</div>"
      ],
      "text/plain": [
       "                                         REGION  \\\n",
       "0   Autonomous Region of Muslim Mindanao (ARMM)   \n",
       "1                       Bicol Region (Region V)   \n",
       "2                      CALABARZON (Region IV-A)   \n",
       "3                    Cagayan Valley (Region II)   \n",
       "4                          Caraga (Region XIII)   \n",
       "5                    Central Luzon (Region III)   \n",
       "6                  Central Visayas (Region VII)   \n",
       "7        Cordillera Administrative Region (CAR)   \n",
       "8                      Davao Region (Region XI)   \n",
       "9                 Eastern Visayas (Region VIII)   \n",
       "10                     Ilocos Region (Region I)   \n",
       "11                       MIMAROPA (Region IV-B)   \n",
       "12                          Metropolitan Manila   \n",
       "13                 Northern Mindanao (Region X)   \n",
       "14                    SOCCSKSARGEN (Region XII)   \n",
       "15                  Western Visayas (Region VI)   \n",
       "16              Zamboanga Peninsula (Region IX)   \n",
       "\n",
       "                                             geometry  \n",
       "0   (POLYGON ((119.4669418334962 4.586939811706523...  \n",
       "1   (POLYGON ((122.9841690063476 11.71055984497071...  \n",
       "2   (POLYGON ((125.2216567993167 10.43443965911868...  \n",
       "3   (POLYGON ((122.4703979492188 16.91995048522949...  \n",
       "4   (POLYGON ((126.417503356934 7.964169979095546,...  \n",
       "5   (POLYGON ((120.6236267089844 14.36787986755386...  \n",
       "6   (POLYGON ((123.2711105346679 9.084759712219269...  \n",
       "7   POLYGON ((121.3767929077149 17.95472908020015,...  \n",
       "8   (POLYGON ((125.3977813720705 5.435830116271932...  \n",
       "9   (POLYGON ((125.0736083984376 9.89472007751475,...  \n",
       "10  (POLYGON ((119.8650512695319 15.81169986724875...  \n",
       "11  (POLYGON ((117.3138885498046 7.514170169830424...  \n",
       "12  (POLYGON ((120.9797210693363 14.49305534362795...  \n",
       "13  (POLYGON ((123.6219329833985 7.828589916229499...  \n",
       "14  POLYGON ((124.5379867553711 7.681869983673105,...  \n",
       "15  (POLYGON ((122.4352188110355 9.643819808960162...  \n",
       "16  (POLYGON ((122.0622329711914 6.872779846191344...  "
      ]
     },
     "execution_count": 4,
     "metadata": {},
     "output_type": "execute_result"
    }
   ],
   "source": [
    "regions"
   ]
  },
  {
   "cell_type": "markdown",
   "metadata": {},
   "source": [
    "As expected, the `regions` GeoDataFrame (which we'll shorten to GDF) contains geometry data for 17 Philippine regions and doesn't yet include data for the NIR."
   ]
  },
  {
   "cell_type": "code",
   "execution_count": 5,
   "metadata": {
    "collapsed": false
   },
   "outputs": [
    {
     "data": {
      "text/plain": [
       "(81, 13)"
      ]
     },
     "execution_count": 5,
     "metadata": {},
     "output_type": "execute_result"
    }
   ],
   "source": [
    "provinces.shape"
   ]
  },
  {
   "cell_type": "code",
   "execution_count": 6,
   "metadata": {
    "collapsed": false
   },
   "outputs": [
    {
     "data": {
      "text/plain": [
       "Index([    u'CCA_1',     u'CCN_1', u'ENGTYPE_1',    u'HASC_1',      u'ID_0',\n",
       "            u'ID_1',       u'ISO',    u'NAME_0',    u'NAME_1', u'NL_NAME_1',\n",
       "          u'TYPE_1', u'VARNAME_1',  u'geometry'],\n",
       "      dtype='object')"
      ]
     },
     "execution_count": 6,
     "metadata": {},
     "output_type": "execute_result"
    }
   ],
   "source": [
    "provinces.columns"
   ]
  },
  {
   "cell_type": "code",
   "execution_count": 7,
   "metadata": {
    "collapsed": false
   },
   "outputs": [
    {
     "data": {
      "text/html": [
       "<div>\n",
       "<table border=\"1\" class=\"dataframe\">\n",
       "  <thead>\n",
       "    <tr style=\"text-align: right;\">\n",
       "      <th></th>\n",
       "      <th>NAME_1</th>\n",
       "      <th>geometry</th>\n",
       "    </tr>\n",
       "  </thead>\n",
       "  <tbody>\n",
       "    <tr>\n",
       "      <th>0</th>\n",
       "      <td>Abra</td>\n",
       "      <td>POLYGON ((120.9679489135743 17.95705986022955,...</td>\n",
       "    </tr>\n",
       "    <tr>\n",
       "      <th>1</th>\n",
       "      <td>Agusan del Norte</td>\n",
       "      <td>POLYGON ((125.5772399902345 9.456789970397892,...</td>\n",
       "    </tr>\n",
       "    <tr>\n",
       "      <th>2</th>\n",
       "      <td>Agusan del Sur</td>\n",
       "      <td>POLYGON ((125.9108734130859 8.856249809265194,...</td>\n",
       "    </tr>\n",
       "    <tr>\n",
       "      <th>3</th>\n",
       "      <td>Aklan</td>\n",
       "      <td>(POLYGON ((122.4366683959961 11.59832954406733...</td>\n",
       "    </tr>\n",
       "    <tr>\n",
       "      <th>4</th>\n",
       "      <td>Albay</td>\n",
       "      <td>(POLYGON ((123.2876434326172 13.04922962188726...</td>\n",
       "    </tr>\n",
       "  </tbody>\n",
       "</table>\n",
       "</div>"
      ],
      "text/plain": [
       "             NAME_1                                           geometry\n",
       "0              Abra  POLYGON ((120.9679489135743 17.95705986022955,...\n",
       "1  Agusan del Norte  POLYGON ((125.5772399902345 9.456789970397892,...\n",
       "2    Agusan del Sur  POLYGON ((125.9108734130859 8.856249809265194,...\n",
       "3             Aklan  (POLYGON ((122.4366683959961 11.59832954406733...\n",
       "4             Albay  (POLYGON ((123.2876434326172 13.04922962188726..."
      ]
     },
     "execution_count": 7,
     "metadata": {},
     "output_type": "execute_result"
    }
   ],
   "source": [
    "cols = ['NAME_1', 'geometry']\n",
    "provinces.head()[cols]"
   ]
  },
  {
   "cell_type": "markdown",
   "metadata": {},
   "source": [
    "The `provinces` GDF contains geometry and other data for the 81 Philippine provinces. We previewed this one by specifying only the `NAME_1` and `geometry` columns along with the `.head()` call. Let's see if it has the two provinces we're looking for."
   ]
  },
  {
   "cell_type": "code",
   "execution_count": 8,
   "metadata": {
    "collapsed": false
   },
   "outputs": [
    {
     "data": {
      "text/html": [
       "<div>\n",
       "<table border=\"1\" class=\"dataframe\">\n",
       "  <thead>\n",
       "    <tr style=\"text-align: right;\">\n",
       "      <th></th>\n",
       "      <th>NAME_1</th>\n",
       "      <th>geometry</th>\n",
       "    </tr>\n",
       "  </thead>\n",
       "  <tbody>\n",
       "    <tr>\n",
       "      <th>50</th>\n",
       "      <td>Negros Occidental</td>\n",
       "      <td>(POLYGON ((122.4352188110356 9.643819808959961...</td>\n",
       "    </tr>\n",
       "    <tr>\n",
       "      <th>51</th>\n",
       "      <td>Negros Oriental</td>\n",
       "      <td>(POLYGON ((123.271110534668 9.084759712219238,...</td>\n",
       "    </tr>\n",
       "  </tbody>\n",
       "</table>\n",
       "</div>"
      ],
      "text/plain": [
       "               NAME_1                                           geometry\n",
       "50  Negros Occidental  (POLYGON ((122.4352188110356 9.643819808959961...\n",
       "51    Negros Oriental  (POLYGON ((123.271110534668 9.084759712219238,..."
      ]
     },
     "execution_count": 8,
     "metadata": {},
     "output_type": "execute_result"
    }
   ],
   "source": [
    "neg_prov = provinces.loc[\n",
    "    provinces.NAME_1.str.contains(r'Negros'), cols\n",
    "]\n",
    "neg_prov"
   ]
  },
  {
   "cell_type": "markdown",
   "metadata": {},
   "source": [
    "And sure enough, it does. Now, onto the updated PSGG codes:"
   ]
  },
  {
   "cell_type": "code",
   "execution_count": 9,
   "metadata": {
    "collapsed": false
   },
   "outputs": [
    {
     "data": {
      "text/plain": [
       "(18, 2)"
      ]
     },
     "execution_count": 9,
     "metadata": {},
     "output_type": "execute_result"
    }
   ],
   "source": [
    "psgg_code.shape"
   ]
  },
  {
   "cell_type": "code",
   "execution_count": 10,
   "metadata": {
    "collapsed": false
   },
   "outputs": [
    {
     "data": {
      "text/html": [
       "<div>\n",
       "<table border=\"1\" class=\"dataframe\">\n",
       "  <thead>\n",
       "    <tr style=\"text-align: right;\">\n",
       "      <th></th>\n",
       "      <th>psgg_code</th>\n",
       "      <th>region</th>\n",
       "    </tr>\n",
       "  </thead>\n",
       "  <tbody>\n",
       "    <tr>\n",
       "      <th>0</th>\n",
       "      <td>18</td>\n",
       "      <td>NIR (Negros Island Region)</td>\n",
       "    </tr>\n",
       "    <tr>\n",
       "      <th>1</th>\n",
       "      <td>13</td>\n",
       "      <td>NCR (National Capital Region)</td>\n",
       "    </tr>\n",
       "    <tr>\n",
       "      <th>2</th>\n",
       "      <td>14</td>\n",
       "      <td>CAR (Cordillera Administrative Region)</td>\n",
       "    </tr>\n",
       "    <tr>\n",
       "      <th>3</th>\n",
       "      <td>01</td>\n",
       "      <td>Region I (Ilocos Region)</td>\n",
       "    </tr>\n",
       "    <tr>\n",
       "      <th>4</th>\n",
       "      <td>02</td>\n",
       "      <td>Region II (Cagayan Valley)</td>\n",
       "    </tr>\n",
       "    <tr>\n",
       "      <th>5</th>\n",
       "      <td>03</td>\n",
       "      <td>Region III (Central Luzon)</td>\n",
       "    </tr>\n",
       "    <tr>\n",
       "      <th>6</th>\n",
       "      <td>04</td>\n",
       "      <td>Region IV-A (CALABARZON)</td>\n",
       "    </tr>\n",
       "    <tr>\n",
       "      <th>7</th>\n",
       "      <td>17</td>\n",
       "      <td>Region IV-B (MIMAROPA)</td>\n",
       "    </tr>\n",
       "    <tr>\n",
       "      <th>8</th>\n",
       "      <td>05</td>\n",
       "      <td>Region V (Bicol Region)</td>\n",
       "    </tr>\n",
       "    <tr>\n",
       "      <th>9</th>\n",
       "      <td>06</td>\n",
       "      <td>Region VI (Western Visayas)</td>\n",
       "    </tr>\n",
       "    <tr>\n",
       "      <th>10</th>\n",
       "      <td>07</td>\n",
       "      <td>Region VII (Central Visayas)</td>\n",
       "    </tr>\n",
       "    <tr>\n",
       "      <th>11</th>\n",
       "      <td>08</td>\n",
       "      <td>Region VIII (Eastern Visayas)</td>\n",
       "    </tr>\n",
       "    <tr>\n",
       "      <th>12</th>\n",
       "      <td>09</td>\n",
       "      <td>Region IX (Zamboanga Peninsula)</td>\n",
       "    </tr>\n",
       "    <tr>\n",
       "      <th>13</th>\n",
       "      <td>10</td>\n",
       "      <td>Region X (Northern Mindanao)</td>\n",
       "    </tr>\n",
       "    <tr>\n",
       "      <th>14</th>\n",
       "      <td>11</td>\n",
       "      <td>Region XI (Davao Region)</td>\n",
       "    </tr>\n",
       "    <tr>\n",
       "      <th>15</th>\n",
       "      <td>12</td>\n",
       "      <td>Region XII (Soccsksargen)</td>\n",
       "    </tr>\n",
       "    <tr>\n",
       "      <th>16</th>\n",
       "      <td>16</td>\n",
       "      <td>Region XIII (Caraga)</td>\n",
       "    </tr>\n",
       "    <tr>\n",
       "      <th>17</th>\n",
       "      <td>15</td>\n",
       "      <td>ARMM (Autonomous Region in Muslim Mindanao)</td>\n",
       "    </tr>\n",
       "  </tbody>\n",
       "</table>\n",
       "</div>"
      ],
      "text/plain": [
       "   psgg_code                                       region\n",
       "0         18                   NIR (Negros Island Region)\n",
       "1         13                NCR (National Capital Region)\n",
       "2         14       CAR (Cordillera Administrative Region)\n",
       "3         01                     Region I (Ilocos Region)\n",
       "4         02                   Region II (Cagayan Valley)\n",
       "5         03                   Region III (Central Luzon)\n",
       "6         04                     Region IV-A (CALABARZON)\n",
       "7         17                       Region IV-B (MIMAROPA)\n",
       "8         05                      Region V (Bicol Region)\n",
       "9         06                  Region VI (Western Visayas)\n",
       "10        07                 Region VII (Central Visayas)\n",
       "11        08                Region VIII (Eastern Visayas)\n",
       "12        09              Region IX (Zamboanga Peninsula)\n",
       "13        10                 Region X (Northern Mindanao)\n",
       "14        11                     Region XI (Davao Region)\n",
       "15        12                    Region XII (Soccsksargen)\n",
       "16        16                         Region XIII (Caraga)\n",
       "17        15  ARMM (Autonomous Region in Muslim Mindanao)"
      ]
     },
     "execution_count": 10,
     "metadata": {},
     "output_type": "execute_result"
    }
   ],
   "source": [
    "psgg_code"
   ]
  },
  {
   "cell_type": "markdown",
   "metadata": {
    "collapsed": true
   },
   "source": [
    "## Matching and Inserting the PSGG Codes\n",
    "In order to simplify our dataframe operations later, we match the PSGG codes under the `psgg_code` DF with their corresponding region names in the `regions` GDF and then insert the matched PSGG codes as a new column in the latter. To do this we apply the below function on the `regions` GDF.\n",
    "\n",
    "The function uses the `process.extractOne()` method of the `fuzzywuzzy` package to match the most identical row from the `psgg_code` DF and use that value to return the corresponding PSGG code."
   ]
  },
  {
   "cell_type": "code",
   "execution_count": 11,
   "metadata": {
    "collapsed": false
   },
   "outputs": [],
   "source": [
    "def get_psgg_code(orig_name):\n",
    "    if orig_name.startswith('Metropolitan'):\n",
    "        return '13'\n",
    "    else:\n",
    "        choice, _ = process.extractOne(orig_name, psgg_code.region.values)\n",
    "        p_code = psgg_code.psgg_code[psgg_code.region == choice]\n",
    "        return p_code.values[0]"
   ]
  },
  {
   "cell_type": "code",
   "execution_count": 12,
   "metadata": {
    "collapsed": false
   },
   "outputs": [],
   "source": [
    "regions['psgg_code'] = regions['REGION'].apply(lambda x: get_psgg_code(x))"
   ]
  },
  {
   "cell_type": "code",
   "execution_count": 13,
   "metadata": {
    "collapsed": false
   },
   "outputs": [
    {
     "data": {
      "text/html": [
       "<div>\n",
       "<table border=\"1\" class=\"dataframe\">\n",
       "  <thead>\n",
       "    <tr style=\"text-align: right;\">\n",
       "      <th></th>\n",
       "      <th>REGION</th>\n",
       "      <th>geometry</th>\n",
       "      <th>psgg_code</th>\n",
       "    </tr>\n",
       "  </thead>\n",
       "  <tbody>\n",
       "    <tr>\n",
       "      <th>0</th>\n",
       "      <td>Autonomous Region of Muslim Mindanao (ARMM)</td>\n",
       "      <td>(POLYGON ((119.4669418334962 4.586939811706523...</td>\n",
       "      <td>15</td>\n",
       "    </tr>\n",
       "    <tr>\n",
       "      <th>1</th>\n",
       "      <td>Bicol Region (Region V)</td>\n",
       "      <td>(POLYGON ((122.9841690063476 11.71055984497071...</td>\n",
       "      <td>05</td>\n",
       "    </tr>\n",
       "    <tr>\n",
       "      <th>2</th>\n",
       "      <td>CALABARZON (Region IV-A)</td>\n",
       "      <td>(POLYGON ((125.2216567993167 10.43443965911868...</td>\n",
       "      <td>04</td>\n",
       "    </tr>\n",
       "    <tr>\n",
       "      <th>3</th>\n",
       "      <td>Cagayan Valley (Region II)</td>\n",
       "      <td>(POLYGON ((122.4703979492188 16.91995048522949...</td>\n",
       "      <td>02</td>\n",
       "    </tr>\n",
       "    <tr>\n",
       "      <th>4</th>\n",
       "      <td>Caraga (Region XIII)</td>\n",
       "      <td>(POLYGON ((126.417503356934 7.964169979095546,...</td>\n",
       "      <td>16</td>\n",
       "    </tr>\n",
       "    <tr>\n",
       "      <th>5</th>\n",
       "      <td>Central Luzon (Region III)</td>\n",
       "      <td>(POLYGON ((120.6236267089844 14.36787986755386...</td>\n",
       "      <td>03</td>\n",
       "    </tr>\n",
       "    <tr>\n",
       "      <th>6</th>\n",
       "      <td>Central Visayas (Region VII)</td>\n",
       "      <td>(POLYGON ((123.2711105346679 9.084759712219269...</td>\n",
       "      <td>07</td>\n",
       "    </tr>\n",
       "    <tr>\n",
       "      <th>7</th>\n",
       "      <td>Cordillera Administrative Region (CAR)</td>\n",
       "      <td>POLYGON ((121.3767929077149 17.95472908020015,...</td>\n",
       "      <td>14</td>\n",
       "    </tr>\n",
       "    <tr>\n",
       "      <th>8</th>\n",
       "      <td>Davao Region (Region XI)</td>\n",
       "      <td>(POLYGON ((125.3977813720705 5.435830116271932...</td>\n",
       "      <td>11</td>\n",
       "    </tr>\n",
       "    <tr>\n",
       "      <th>9</th>\n",
       "      <td>Eastern Visayas (Region VIII)</td>\n",
       "      <td>(POLYGON ((125.0736083984376 9.89472007751475,...</td>\n",
       "      <td>08</td>\n",
       "    </tr>\n",
       "    <tr>\n",
       "      <th>10</th>\n",
       "      <td>Ilocos Region (Region I)</td>\n",
       "      <td>(POLYGON ((119.8650512695319 15.81169986724875...</td>\n",
       "      <td>01</td>\n",
       "    </tr>\n",
       "    <tr>\n",
       "      <th>11</th>\n",
       "      <td>MIMAROPA (Region IV-B)</td>\n",
       "      <td>(POLYGON ((117.3138885498046 7.514170169830424...</td>\n",
       "      <td>17</td>\n",
       "    </tr>\n",
       "    <tr>\n",
       "      <th>12</th>\n",
       "      <td>Metropolitan Manila</td>\n",
       "      <td>(POLYGON ((120.9797210693363 14.49305534362795...</td>\n",
       "      <td>13</td>\n",
       "    </tr>\n",
       "    <tr>\n",
       "      <th>13</th>\n",
       "      <td>Northern Mindanao (Region X)</td>\n",
       "      <td>(POLYGON ((123.6219329833985 7.828589916229499...</td>\n",
       "      <td>10</td>\n",
       "    </tr>\n",
       "    <tr>\n",
       "      <th>14</th>\n",
       "      <td>SOCCSKSARGEN (Region XII)</td>\n",
       "      <td>POLYGON ((124.5379867553711 7.681869983673105,...</td>\n",
       "      <td>12</td>\n",
       "    </tr>\n",
       "    <tr>\n",
       "      <th>15</th>\n",
       "      <td>Western Visayas (Region VI)</td>\n",
       "      <td>(POLYGON ((122.4352188110355 9.643819808960162...</td>\n",
       "      <td>06</td>\n",
       "    </tr>\n",
       "    <tr>\n",
       "      <th>16</th>\n",
       "      <td>Zamboanga Peninsula (Region IX)</td>\n",
       "      <td>(POLYGON ((122.0622329711914 6.872779846191344...</td>\n",
       "      <td>09</td>\n",
       "    </tr>\n",
       "  </tbody>\n",
       "</table>\n",
       "</div>"
      ],
      "text/plain": [
       "                                         REGION  \\\n",
       "0   Autonomous Region of Muslim Mindanao (ARMM)   \n",
       "1                       Bicol Region (Region V)   \n",
       "2                      CALABARZON (Region IV-A)   \n",
       "3                    Cagayan Valley (Region II)   \n",
       "4                          Caraga (Region XIII)   \n",
       "5                    Central Luzon (Region III)   \n",
       "6                  Central Visayas (Region VII)   \n",
       "7        Cordillera Administrative Region (CAR)   \n",
       "8                      Davao Region (Region XI)   \n",
       "9                 Eastern Visayas (Region VIII)   \n",
       "10                     Ilocos Region (Region I)   \n",
       "11                       MIMAROPA (Region IV-B)   \n",
       "12                          Metropolitan Manila   \n",
       "13                 Northern Mindanao (Region X)   \n",
       "14                    SOCCSKSARGEN (Region XII)   \n",
       "15                  Western Visayas (Region VI)   \n",
       "16              Zamboanga Peninsula (Region IX)   \n",
       "\n",
       "                                             geometry psgg_code  \n",
       "0   (POLYGON ((119.4669418334962 4.586939811706523...        15  \n",
       "1   (POLYGON ((122.9841690063476 11.71055984497071...        05  \n",
       "2   (POLYGON ((125.2216567993167 10.43443965911868...        04  \n",
       "3   (POLYGON ((122.4703979492188 16.91995048522949...        02  \n",
       "4   (POLYGON ((126.417503356934 7.964169979095546,...        16  \n",
       "5   (POLYGON ((120.6236267089844 14.36787986755386...        03  \n",
       "6   (POLYGON ((123.2711105346679 9.084759712219269...        07  \n",
       "7   POLYGON ((121.3767929077149 17.95472908020015,...        14  \n",
       "8   (POLYGON ((125.3977813720705 5.435830116271932...        11  \n",
       "9   (POLYGON ((125.0736083984376 9.89472007751475,...        08  \n",
       "10  (POLYGON ((119.8650512695319 15.81169986724875...        01  \n",
       "11  (POLYGON ((117.3138885498046 7.514170169830424...        17  \n",
       "12  (POLYGON ((120.9797210693363 14.49305534362795...        13  \n",
       "13  (POLYGON ((123.6219329833985 7.828589916229499...        10  \n",
       "14  POLYGON ((124.5379867553711 7.681869983673105,...        12  \n",
       "15  (POLYGON ((122.4352188110355 9.643819808960162...        06  \n",
       "16  (POLYGON ((122.0622329711914 6.872779846191344...        09  "
      ]
     },
     "execution_count": 13,
     "metadata": {},
     "output_type": "execute_result"
    }
   ],
   "source": [
    "regions"
   ]
  },
  {
   "cell_type": "markdown",
   "metadata": {},
   "source": [
    "Looks like everything's in order. Let's set the `pscc_code` as the indexx for the `regions` GDF to clear things up a bit and make indexing simpler later."
   ]
  },
  {
   "cell_type": "code",
   "execution_count": 14,
   "metadata": {
    "collapsed": false
   },
   "outputs": [
    {
     "data": {
      "text/html": [
       "<div>\n",
       "<table border=\"1\" class=\"dataframe\">\n",
       "  <thead>\n",
       "    <tr style=\"text-align: right;\">\n",
       "      <th></th>\n",
       "      <th>REGION</th>\n",
       "      <th>geometry</th>\n",
       "    </tr>\n",
       "    <tr>\n",
       "      <th>psgg_code</th>\n",
       "      <th></th>\n",
       "      <th></th>\n",
       "    </tr>\n",
       "  </thead>\n",
       "  <tbody>\n",
       "    <tr>\n",
       "      <th>15</th>\n",
       "      <td>Autonomous Region of Muslim Mindanao (ARMM)</td>\n",
       "      <td>(POLYGON ((119.4669418334962 4.586939811706523...</td>\n",
       "    </tr>\n",
       "    <tr>\n",
       "      <th>05</th>\n",
       "      <td>Bicol Region (Region V)</td>\n",
       "      <td>(POLYGON ((122.9841690063476 11.71055984497071...</td>\n",
       "    </tr>\n",
       "    <tr>\n",
       "      <th>04</th>\n",
       "      <td>CALABARZON (Region IV-A)</td>\n",
       "      <td>(POLYGON ((125.2216567993167 10.43443965911868...</td>\n",
       "    </tr>\n",
       "    <tr>\n",
       "      <th>02</th>\n",
       "      <td>Cagayan Valley (Region II)</td>\n",
       "      <td>(POLYGON ((122.4703979492188 16.91995048522949...</td>\n",
       "    </tr>\n",
       "    <tr>\n",
       "      <th>16</th>\n",
       "      <td>Caraga (Region XIII)</td>\n",
       "      <td>(POLYGON ((126.417503356934 7.964169979095546,...</td>\n",
       "    </tr>\n",
       "    <tr>\n",
       "      <th>03</th>\n",
       "      <td>Central Luzon (Region III)</td>\n",
       "      <td>(POLYGON ((120.6236267089844 14.36787986755386...</td>\n",
       "    </tr>\n",
       "    <tr>\n",
       "      <th>07</th>\n",
       "      <td>Central Visayas (Region VII)</td>\n",
       "      <td>(POLYGON ((123.2711105346679 9.084759712219269...</td>\n",
       "    </tr>\n",
       "    <tr>\n",
       "      <th>14</th>\n",
       "      <td>Cordillera Administrative Region (CAR)</td>\n",
       "      <td>POLYGON ((121.3767929077149 17.95472908020015,...</td>\n",
       "    </tr>\n",
       "    <tr>\n",
       "      <th>11</th>\n",
       "      <td>Davao Region (Region XI)</td>\n",
       "      <td>(POLYGON ((125.3977813720705 5.435830116271932...</td>\n",
       "    </tr>\n",
       "    <tr>\n",
       "      <th>08</th>\n",
       "      <td>Eastern Visayas (Region VIII)</td>\n",
       "      <td>(POLYGON ((125.0736083984376 9.89472007751475,...</td>\n",
       "    </tr>\n",
       "    <tr>\n",
       "      <th>01</th>\n",
       "      <td>Ilocos Region (Region I)</td>\n",
       "      <td>(POLYGON ((119.8650512695319 15.81169986724875...</td>\n",
       "    </tr>\n",
       "    <tr>\n",
       "      <th>17</th>\n",
       "      <td>MIMAROPA (Region IV-B)</td>\n",
       "      <td>(POLYGON ((117.3138885498046 7.514170169830424...</td>\n",
       "    </tr>\n",
       "    <tr>\n",
       "      <th>13</th>\n",
       "      <td>Metropolitan Manila</td>\n",
       "      <td>(POLYGON ((120.9797210693363 14.49305534362795...</td>\n",
       "    </tr>\n",
       "    <tr>\n",
       "      <th>10</th>\n",
       "      <td>Northern Mindanao (Region X)</td>\n",
       "      <td>(POLYGON ((123.6219329833985 7.828589916229499...</td>\n",
       "    </tr>\n",
       "    <tr>\n",
       "      <th>12</th>\n",
       "      <td>SOCCSKSARGEN (Region XII)</td>\n",
       "      <td>POLYGON ((124.5379867553711 7.681869983673105,...</td>\n",
       "    </tr>\n",
       "    <tr>\n",
       "      <th>06</th>\n",
       "      <td>Western Visayas (Region VI)</td>\n",
       "      <td>(POLYGON ((122.4352188110355 9.643819808960162...</td>\n",
       "    </tr>\n",
       "    <tr>\n",
       "      <th>09</th>\n",
       "      <td>Zamboanga Peninsula (Region IX)</td>\n",
       "      <td>(POLYGON ((122.0622329711914 6.872779846191344...</td>\n",
       "    </tr>\n",
       "  </tbody>\n",
       "</table>\n",
       "</div>"
      ],
      "text/plain": [
       "                                                REGION  \\\n",
       "psgg_code                                                \n",
       "15         Autonomous Region of Muslim Mindanao (ARMM)   \n",
       "05                             Bicol Region (Region V)   \n",
       "04                            CALABARZON (Region IV-A)   \n",
       "02                          Cagayan Valley (Region II)   \n",
       "16                                Caraga (Region XIII)   \n",
       "03                          Central Luzon (Region III)   \n",
       "07                        Central Visayas (Region VII)   \n",
       "14              Cordillera Administrative Region (CAR)   \n",
       "11                            Davao Region (Region XI)   \n",
       "08                       Eastern Visayas (Region VIII)   \n",
       "01                            Ilocos Region (Region I)   \n",
       "17                              MIMAROPA (Region IV-B)   \n",
       "13                                 Metropolitan Manila   \n",
       "10                        Northern Mindanao (Region X)   \n",
       "12                           SOCCSKSARGEN (Region XII)   \n",
       "06                         Western Visayas (Region VI)   \n",
       "09                     Zamboanga Peninsula (Region IX)   \n",
       "\n",
       "                                                    geometry  \n",
       "psgg_code                                                     \n",
       "15         (POLYGON ((119.4669418334962 4.586939811706523...  \n",
       "05         (POLYGON ((122.9841690063476 11.71055984497071...  \n",
       "04         (POLYGON ((125.2216567993167 10.43443965911868...  \n",
       "02         (POLYGON ((122.4703979492188 16.91995048522949...  \n",
       "16         (POLYGON ((126.417503356934 7.964169979095546,...  \n",
       "03         (POLYGON ((120.6236267089844 14.36787986755386...  \n",
       "07         (POLYGON ((123.2711105346679 9.084759712219269...  \n",
       "14         POLYGON ((121.3767929077149 17.95472908020015,...  \n",
       "11         (POLYGON ((125.3977813720705 5.435830116271932...  \n",
       "08         (POLYGON ((125.0736083984376 9.89472007751475,...  \n",
       "01         (POLYGON ((119.8650512695319 15.81169986724875...  \n",
       "17         (POLYGON ((117.3138885498046 7.514170169830424...  \n",
       "13         (POLYGON ((120.9797210693363 14.49305534362795...  \n",
       "10         (POLYGON ((123.6219329833985 7.828589916229499...  \n",
       "12         POLYGON ((124.5379867553711 7.681869983673105,...  \n",
       "06         (POLYGON ((122.4352188110355 9.643819808960162...  \n",
       "09         (POLYGON ((122.0622329711914 6.872779846191344...  "
      ]
     },
     "execution_count": 14,
     "metadata": {},
     "output_type": "execute_result"
    }
   ],
   "source": [
    "regions.set_index('psgg_code', inplace=True)\n",
    "regions"
   ]
  },
  {
   "cell_type": "markdown",
   "metadata": {},
   "source": [
    "## Plotting the Old Regional Shape Files\n",
    "Let'ss take a \"before\" snapshot of the previous (pre-2015) regional boundaries, so that we'll have something to remind us of the way things used to be."
   ]
  },
  {
   "cell_type": "code",
   "execution_count": 15,
   "metadata": {
    "collapsed": true
   },
   "outputs": [],
   "source": [
    "# create a series with the region numbers/abbreviations to indicate map locations\n",
    "def make_map_text(name):\n",
    "    text = name.split(' ')\n",
    "    return text[1] if name.startswith('Region') else text[0]"
   ]
  },
  {
   "cell_type": "code",
   "execution_count": 16,
   "metadata": {
    "collapsed": false
   },
   "outputs": [],
   "source": [
    "map_names = psgg_code.loc[:, ['psgg_code', 'region']]\n",
    "map_names['region'] = map_names['region'].apply(lambda x: make_map_text(x))\n",
    "map_names.set_index('psgg_code', inplace=True, drop=True)"
   ]
  },
  {
   "cell_type": "code",
   "execution_count": 17,
   "metadata": {
    "collapsed": false
   },
   "outputs": [
    {
     "data": {
      "image/png": "[encoded data removed]",
      "text/plain": [
       "<matplotlib.figure.Figure at 0x624beb0>"
      ]
     },
     "metadata": {},
     "output_type": "display_data"
    }
   ],
   "source": [
    "# Plotting it\n",
    "plt.style.use('ggplot')\n",
    "fig, ax = plt.subplots(figsize=(10, 10))\n",
    "\n",
    "regions.plot(ax=ax, color='forestgreen', linewidth=0)\n",
    "regions[regions.index == '06'].plot(ax=ax, color='orange', linewidth=0)\n",
    "regions[regions.index == '07'].plot(ax=ax, color='slateblue', linewidth=0)\n",
    "\n",
    "for i, point in regions.centroid.iteritems():\n",
    "    reg_n = map_names.loc[i, 'region']\n",
    "    ax.text(s=reg_n, x=point.x, y=point.y, fontsize='large')\n",
    "\n",
    "ax.set_title('PH Administrative Regions (pre-2015)')\n",
    "ax.set_axis_off()\n",
    "\n",
    "plt.savefig('map-01-previous.png', bbox_inches='tight')"
   ]
  },
  {
   "cell_type": "markdown",
   "metadata": {},
   "source": [
    "Here, we plot the old, pre-2015 shape files  and highlight Regions VI and VII (colored orange and slate blue) from the rest of the country (colored forest green). It can be seen that the island of Negros is divided into Regions VI and VII."
   ]
  },
  {
   "cell_type": "markdown",
   "metadata": {
    "collapsed": true
   },
   "source": [
    "## Updating the Regional Boundaries\n",
    "We're just about ready to modify the previous geometry objects in order to accountfor the creation of the Negros Island Region (NIR) as a separate administrative unit.\n",
    "\n",
    "The task at hand seems fairly straightforward. We first use the province-level geometry objects for Negros Occidental and Negros Oriental to 'subtract' these shapes from the geometry objects of Regions VI and VII, respectively. Then we take the union of the Negros Occidental and Oriental shapes as the geometry object for NIR.\n",
    "\n",
    "To do the above steps more quickly and more accurately, we make use of `shapely`'s methods for doing set theoretic operations on geometry objects. We can directly call these methods using any of the entries under the `geometry` fields in our `regions` and `provinces` since each of these entries is either a `shapely` polygon or multipolygon object already.\n",
    "\n",
    "Enough theory, let's get coding."
   ]
  },
  {
   "cell_type": "code",
   "execution_count": 18,
   "metadata": {
    "collapsed": true
   },
   "outputs": [],
   "source": [
    "# get the shapes of the two provinces (see input cell 8 and its output)\n",
    "neg_oc = neg_prov.iloc[0, 1]                # Negros Occidental\n",
    "neg_or = neg_prov.iloc[1, 1]                # Negros Oriental\n",
    "\n",
    "# get shapes of regions vi and vii\n",
    "reg_6 = regions.loc['06', 'geometry']\n",
    "reg_7 = regions.loc['07', 'geometry']\n",
    "\n",
    "# remove the provinces from their respective pre-2015 regions\n",
    "regions.loc['06', 'geometry'] = reg_6.difference(neg_oc)\n",
    "regions.loc['07', 'geometry'] = reg_7.difference(neg_or)"
   ]
  },
  {
   "cell_type": "code",
   "execution_count": 19,
   "metadata": {
    "collapsed": false
   },
   "outputs": [
    {
     "data": {
      "text/html": [
       "<div>\n",
       "<table border=\"1\" class=\"dataframe\">\n",
       "  <thead>\n",
       "    <tr style=\"text-align: right;\">\n",
       "      <th></th>\n",
       "      <th>REGION</th>\n",
       "      <th>geometry</th>\n",
       "    </tr>\n",
       "    <tr>\n",
       "      <th>psgg_code</th>\n",
       "      <th></th>\n",
       "      <th></th>\n",
       "    </tr>\n",
       "  </thead>\n",
       "  <tbody>\n",
       "    <tr>\n",
       "      <th>15</th>\n",
       "      <td>Autonomous Region of Muslim Mindanao (ARMM)</td>\n",
       "      <td>(POLYGON ((119.4669418334962 4.586939811706523...</td>\n",
       "    </tr>\n",
       "    <tr>\n",
       "      <th>05</th>\n",
       "      <td>Bicol Region (Region V)</td>\n",
       "      <td>(POLYGON ((122.9841690063476 11.71055984497071...</td>\n",
       "    </tr>\n",
       "    <tr>\n",
       "      <th>04</th>\n",
       "      <td>CALABARZON (Region IV-A)</td>\n",
       "      <td>(POLYGON ((125.2216567993167 10.43443965911868...</td>\n",
       "    </tr>\n",
       "    <tr>\n",
       "      <th>02</th>\n",
       "      <td>Cagayan Valley (Region II)</td>\n",
       "      <td>(POLYGON ((122.4703979492188 16.91995048522949...</td>\n",
       "    </tr>\n",
       "    <tr>\n",
       "      <th>16</th>\n",
       "      <td>Caraga (Region XIII)</td>\n",
       "      <td>(POLYGON ((126.417503356934 7.964169979095546,...</td>\n",
       "    </tr>\n",
       "    <tr>\n",
       "      <th>03</th>\n",
       "      <td>Central Luzon (Region III)</td>\n",
       "      <td>(POLYGON ((120.6236267089844 14.36787986755386...</td>\n",
       "    </tr>\n",
       "    <tr>\n",
       "      <th>07</th>\n",
       "      <td>Central Visayas (Region VII)</td>\n",
       "      <td>(POLYGON ((123.6044769287113 9.300559997558809...</td>\n",
       "    </tr>\n",
       "    <tr>\n",
       "      <th>14</th>\n",
       "      <td>Cordillera Administrative Region (CAR)</td>\n",
       "      <td>POLYGON ((121.3767929077149 17.95472908020015,...</td>\n",
       "    </tr>\n",
       "    <tr>\n",
       "      <th>11</th>\n",
       "      <td>Davao Region (Region XI)</td>\n",
       "      <td>(POLYGON ((125.3977813720705 5.435830116271932...</td>\n",
       "    </tr>\n",
       "    <tr>\n",
       "      <th>08</th>\n",
       "      <td>Eastern Visayas (Region VIII)</td>\n",
       "      <td>(POLYGON ((125.0736083984376 9.89472007751475,...</td>\n",
       "    </tr>\n",
       "    <tr>\n",
       "      <th>01</th>\n",
       "      <td>Ilocos Region (Region I)</td>\n",
       "      <td>(POLYGON ((119.8650512695319 15.81169986724875...</td>\n",
       "    </tr>\n",
       "    <tr>\n",
       "      <th>17</th>\n",
       "      <td>MIMAROPA (Region IV-B)</td>\n",
       "      <td>(POLYGON ((117.3138885498046 7.514170169830424...</td>\n",
       "    </tr>\n",
       "    <tr>\n",
       "      <th>13</th>\n",
       "      <td>Metropolitan Manila</td>\n",
       "      <td>(POLYGON ((120.9797210693363 14.49305534362795...</td>\n",
       "    </tr>\n",
       "    <tr>\n",
       "      <th>10</th>\n",
       "      <td>Northern Mindanao (Region X)</td>\n",
       "      <td>(POLYGON ((123.6219329833985 7.828589916229499...</td>\n",
       "    </tr>\n",
       "    <tr>\n",
       "      <th>12</th>\n",
       "      <td>SOCCSKSARGEN (Region XII)</td>\n",
       "      <td>POLYGON ((124.5379867553711 7.681869983673105,...</td>\n",
       "    </tr>\n",
       "    <tr>\n",
       "      <th>06</th>\n",
       "      <td>Western Visayas (Region VI)</td>\n",
       "      <td>(POLYGON ((122.5980300903325 10.32855033874531...</td>\n",
       "    </tr>\n",
       "    <tr>\n",
       "      <th>09</th>\n",
       "      <td>Zamboanga Peninsula (Region IX)</td>\n",
       "      <td>(POLYGON ((122.0622329711914 6.872779846191344...</td>\n",
       "    </tr>\n",
       "    <tr>\n",
       "      <th>18</th>\n",
       "      <td>Negros Island Region (NIR)</td>\n",
       "      <td>(POLYGON ((122.4352188110356 9.643819808959961...</td>\n",
       "    </tr>\n",
       "  </tbody>\n",
       "</table>\n",
       "</div>"
      ],
      "text/plain": [
       "                                                REGION  \\\n",
       "psgg_code                                                \n",
       "15         Autonomous Region of Muslim Mindanao (ARMM)   \n",
       "05                             Bicol Region (Region V)   \n",
       "04                            CALABARZON (Region IV-A)   \n",
       "02                          Cagayan Valley (Region II)   \n",
       "16                                Caraga (Region XIII)   \n",
       "03                          Central Luzon (Region III)   \n",
       "07                        Central Visayas (Region VII)   \n",
       "14              Cordillera Administrative Region (CAR)   \n",
       "11                            Davao Region (Region XI)   \n",
       "08                       Eastern Visayas (Region VIII)   \n",
       "01                            Ilocos Region (Region I)   \n",
       "17                              MIMAROPA (Region IV-B)   \n",
       "13                                 Metropolitan Manila   \n",
       "10                        Northern Mindanao (Region X)   \n",
       "12                           SOCCSKSARGEN (Region XII)   \n",
       "06                         Western Visayas (Region VI)   \n",
       "09                     Zamboanga Peninsula (Region IX)   \n",
       "18                          Negros Island Region (NIR)   \n",
       "\n",
       "                                                    geometry  \n",
       "psgg_code                                                     \n",
       "15         (POLYGON ((119.4669418334962 4.586939811706523...  \n",
       "05         (POLYGON ((122.9841690063476 11.71055984497071...  \n",
       "04         (POLYGON ((125.2216567993167 10.43443965911868...  \n",
       "02         (POLYGON ((122.4703979492188 16.91995048522949...  \n",
       "16         (POLYGON ((126.417503356934 7.964169979095546,...  \n",
       "03         (POLYGON ((120.6236267089844 14.36787986755386...  \n",
       "07         (POLYGON ((123.6044769287113 9.300559997558809...  \n",
       "14         POLYGON ((121.3767929077149 17.95472908020015,...  \n",
       "11         (POLYGON ((125.3977813720705 5.435830116271932...  \n",
       "08         (POLYGON ((125.0736083984376 9.89472007751475,...  \n",
       "01         (POLYGON ((119.8650512695319 15.81169986724875...  \n",
       "17         (POLYGON ((117.3138885498046 7.514170169830424...  \n",
       "13         (POLYGON ((120.9797210693363 14.49305534362795...  \n",
       "10         (POLYGON ((123.6219329833985 7.828589916229499...  \n",
       "12         POLYGON ((124.5379867553711 7.681869983673105,...  \n",
       "06         (POLYGON ((122.5980300903325 10.32855033874531...  \n",
       "09         (POLYGON ((122.0622329711914 6.872779846191344...  \n",
       "18         (POLYGON ((122.4352188110356 9.643819808959961...  "
      ]
     },
     "execution_count": 19,
     "metadata": {},
     "output_type": "execute_result"
    }
   ],
   "source": [
    "# combining the two provinces' shapes\n",
    "neg_geom = neg_oc.union(neg_or)\n",
    "\n",
    "# appending the new region to the regions GDF\n",
    "neg_reg = gpd.GeoDataFrame([{'REGION': 'Negros Island Region (NIR)',\n",
    "                             'geometry': neg_geom,\n",
    "                             'psgg_code': '18'}],\n",
    "                            columns=['REGION', 'geometry', 'psgg_code'])\n",
    "neg_reg.set_index('psgg_code', inplace=True, drop=True)\n",
    "regions = regions.append(neg_reg)\n",
    "regions"
   ]
  },
  {
   "cell_type": "code",
   "execution_count": 20,
   "metadata": {
    "collapsed": false
   },
   "outputs": [
    {
     "data": {
      "text/plain": [
       "(18, 2)"
      ]
     },
     "execution_count": 20,
     "metadata": {},
     "output_type": "execute_result"
    }
   ],
   "source": [
    "regions.shape"
   ]
  },
  {
   "cell_type": "markdown",
   "metadata": {},
   "source": [
    "## Plotting the New Shapes\n",
    "Everything seems to be in order, so far. But the only way to find out for sure is to plot the map. We'll do that here."
   ]
  },
  {
   "cell_type": "code",
   "execution_count": 21,
   "metadata": {
    "collapsed": false
   },
   "outputs": [
    {
     "data": {
      "image/png": "[encoded data removed]",
      "text/plain": [
       "<matplotlib.figure.Figure at 0x624bcd0>"
      ]
     },
     "metadata": {},
     "output_type": "display_data"
    }
   ],
   "source": [
    "plt.style.use('ggplot')\n",
    "fig, ax = plt.subplots(figsize=(10, 10))\n",
    "\n",
    "regions.plot(ax=ax, cmap='Dark2', linewidth=0)\n",
    "\n",
    "for i, point in regions.centroid.iteritems():\n",
    "    reg_n = map_names.loc[i, 'region']\n",
    "    ax.text(s=reg_n, x=point.x, y=point.y, fontsize='large')\n",
    "\n",
    "ax.set_title('PH Administrative Regions (Present)')\n",
    "ax.set_axis_off()\n",
    "\n",
    "plt.savefig('map-02-present.png', bbox_inches='tight')"
   ]
  },
  {
   "cell_type": "markdown",
   "metadata": {},
   "source": [
    "Now, we can see the island of Negros unified under a single administrative unit that's separate from both Regions VI and VII."
   ]
  },
  {
   "cell_type": "markdown",
   "metadata": {},
   "source": [
    "## Generating the New Shape Files\n",
    "Geopandas also makes it easy to generate .shp files and associated file types (.dbf, .shx, etc.). So, we'll do that in this section.\n",
    "\n",
    "But first, I'm going to make a little modification on the region name for NCR as it currently appears in our `regions` GDF. I'm going to replace it with NCR's official title and include the abbreviation in parentheses for the sake of consistency (plus it's going to make it much easier for anyone to apply regex or string operations on the region names in the future)."
   ]
  },
  {
   "cell_type": "code",
   "execution_count": 22,
   "metadata": {
    "collapsed": false
   },
   "outputs": [
    {
     "data": {
      "text/html": [
       "<div>\n",
       "<table border=\"1\" class=\"dataframe\">\n",
       "  <thead>\n",
       "    <tr style=\"text-align: right;\">\n",
       "      <th></th>\n",
       "      <th>REGION</th>\n",
       "      <th>geometry</th>\n",
       "    </tr>\n",
       "    <tr>\n",
       "      <th>psgg_code</th>\n",
       "      <th></th>\n",
       "      <th></th>\n",
       "    </tr>\n",
       "  </thead>\n",
       "  <tbody>\n",
       "    <tr>\n",
       "      <th>15</th>\n",
       "      <td>Autonomous Region of Muslim Mindanao (ARMM)</td>\n",
       "      <td>(POLYGON ((119.4669418334962 4.586939811706523...</td>\n",
       "    </tr>\n",
       "    <tr>\n",
       "      <th>05</th>\n",
       "      <td>Bicol Region (Region V)</td>\n",
       "      <td>(POLYGON ((122.9841690063476 11.71055984497071...</td>\n",
       "    </tr>\n",
       "    <tr>\n",
       "      <th>04</th>\n",
       "      <td>CALABARZON (Region IV-A)</td>\n",
       "      <td>(POLYGON ((125.2216567993167 10.43443965911868...</td>\n",
       "    </tr>\n",
       "    <tr>\n",
       "      <th>02</th>\n",
       "      <td>Cagayan Valley (Region II)</td>\n",
       "      <td>(POLYGON ((122.4703979492188 16.91995048522949...</td>\n",
       "    </tr>\n",
       "    <tr>\n",
       "      <th>16</th>\n",
       "      <td>Caraga (Region XIII)</td>\n",
       "      <td>(POLYGON ((126.417503356934 7.964169979095546,...</td>\n",
       "    </tr>\n",
       "    <tr>\n",
       "      <th>03</th>\n",
       "      <td>Central Luzon (Region III)</td>\n",
       "      <td>(POLYGON ((120.6236267089844 14.36787986755386...</td>\n",
       "    </tr>\n",
       "    <tr>\n",
       "      <th>07</th>\n",
       "      <td>Central Visayas (Region VII)</td>\n",
       "      <td>(POLYGON ((123.6044769287113 9.300559997558809...</td>\n",
       "    </tr>\n",
       "    <tr>\n",
       "      <th>14</th>\n",
       "      <td>Cordillera Administrative Region (CAR)</td>\n",
       "      <td>POLYGON ((121.3767929077149 17.95472908020015,...</td>\n",
       "    </tr>\n",
       "    <tr>\n",
       "      <th>11</th>\n",
       "      <td>Davao Region (Region XI)</td>\n",
       "      <td>(POLYGON ((125.3977813720705 5.435830116271932...</td>\n",
       "    </tr>\n",
       "    <tr>\n",
       "      <th>08</th>\n",
       "      <td>Eastern Visayas (Region VIII)</td>\n",
       "      <td>(POLYGON ((125.0736083984376 9.89472007751475,...</td>\n",
       "    </tr>\n",
       "    <tr>\n",
       "      <th>01</th>\n",
       "      <td>Ilocos Region (Region I)</td>\n",
       "      <td>(POLYGON ((119.8650512695319 15.81169986724875...</td>\n",
       "    </tr>\n",
       "    <tr>\n",
       "      <th>17</th>\n",
       "      <td>MIMAROPA (Region IV-B)</td>\n",
       "      <td>(POLYGON ((117.3138885498046 7.514170169830424...</td>\n",
       "    </tr>\n",
       "    <tr>\n",
       "      <th>13</th>\n",
       "      <td>National Capital Region (NCR)</td>\n",
       "      <td>(POLYGON ((120.9797210693363 14.49305534362795...</td>\n",
       "    </tr>\n",
       "    <tr>\n",
       "      <th>10</th>\n",
       "      <td>Northern Mindanao (Region X)</td>\n",
       "      <td>(POLYGON ((123.6219329833985 7.828589916229499...</td>\n",
       "    </tr>\n",
       "    <tr>\n",
       "      <th>12</th>\n",
       "      <td>SOCCSKSARGEN (Region XII)</td>\n",
       "      <td>POLYGON ((124.5379867553711 7.681869983673105,...</td>\n",
       "    </tr>\n",
       "    <tr>\n",
       "      <th>06</th>\n",
       "      <td>Western Visayas (Region VI)</td>\n",
       "      <td>(POLYGON ((122.5980300903325 10.32855033874531...</td>\n",
       "    </tr>\n",
       "    <tr>\n",
       "      <th>09</th>\n",
       "      <td>Zamboanga Peninsula (Region IX)</td>\n",
       "      <td>(POLYGON ((122.0622329711914 6.872779846191344...</td>\n",
       "    </tr>\n",
       "    <tr>\n",
       "      <th>18</th>\n",
       "      <td>Negros Island Region (NIR)</td>\n",
       "      <td>(POLYGON ((122.4352188110356 9.643819808959961...</td>\n",
       "    </tr>\n",
       "  </tbody>\n",
       "</table>\n",
       "</div>"
      ],
      "text/plain": [
       "                                                REGION  \\\n",
       "psgg_code                                                \n",
       "15         Autonomous Region of Muslim Mindanao (ARMM)   \n",
       "05                             Bicol Region (Region V)   \n",
       "04                            CALABARZON (Region IV-A)   \n",
       "02                          Cagayan Valley (Region II)   \n",
       "16                                Caraga (Region XIII)   \n",
       "03                          Central Luzon (Region III)   \n",
       "07                        Central Visayas (Region VII)   \n",
       "14              Cordillera Administrative Region (CAR)   \n",
       "11                            Davao Region (Region XI)   \n",
       "08                       Eastern Visayas (Region VIII)   \n",
       "01                            Ilocos Region (Region I)   \n",
       "17                              MIMAROPA (Region IV-B)   \n",
       "13                       National Capital Region (NCR)   \n",
       "10                        Northern Mindanao (Region X)   \n",
       "12                           SOCCSKSARGEN (Region XII)   \n",
       "06                         Western Visayas (Region VI)   \n",
       "09                     Zamboanga Peninsula (Region IX)   \n",
       "18                          Negros Island Region (NIR)   \n",
       "\n",
       "                                                    geometry  \n",
       "psgg_code                                                     \n",
       "15         (POLYGON ((119.4669418334962 4.586939811706523...  \n",
       "05         (POLYGON ((122.9841690063476 11.71055984497071...  \n",
       "04         (POLYGON ((125.2216567993167 10.43443965911868...  \n",
       "02         (POLYGON ((122.4703979492188 16.91995048522949...  \n",
       "16         (POLYGON ((126.417503356934 7.964169979095546,...  \n",
       "03         (POLYGON ((120.6236267089844 14.36787986755386...  \n",
       "07         (POLYGON ((123.6044769287113 9.300559997558809...  \n",
       "14         POLYGON ((121.3767929077149 17.95472908020015,...  \n",
       "11         (POLYGON ((125.3977813720705 5.435830116271932...  \n",
       "08         (POLYGON ((125.0736083984376 9.89472007751475,...  \n",
       "01         (POLYGON ((119.8650512695319 15.81169986724875...  \n",
       "17         (POLYGON ((117.3138885498046 7.514170169830424...  \n",
       "13         (POLYGON ((120.9797210693363 14.49305534362795...  \n",
       "10         (POLYGON ((123.6219329833985 7.828589916229499...  \n",
       "12         POLYGON ((124.5379867553711 7.681869983673105,...  \n",
       "06         (POLYGON ((122.5980300903325 10.32855033874531...  \n",
       "09         (POLYGON ((122.0622329711914 6.872779846191344...  \n",
       "18         (POLYGON ((122.4352188110356 9.643819808959961...  "
      ]
     },
     "execution_count": 22,
     "metadata": {},
     "output_type": "execute_result"
    }
   ],
   "source": [
    "regions.loc['13', 'REGION'] = 'National Capital Region (NCR)'\n",
    "regions"
   ]
  },
  {
   "cell_type": "markdown",
   "metadata": {},
   "source": [
    "Looks good. Now, let's build ourselves some shape files. The following line of code should generate everything we want/need in the `Updated` directory of this project."
   ]
  },
  {
   "cell_type": "code",
   "execution_count": 23,
   "metadata": {
    "collapsed": true
   },
   "outputs": [],
   "source": [
    "regions.to_file('Updated/ph-regions-2015.shp', driver='ESRI Shapefile')"
   ]
  },
  {
   "cell_type": "markdown",
   "metadata": {},
   "source": [
    "## The Takeaway\n",
    "Now, we have an up-to-date set of shape files for Philippine regions we can use to visualize region-level data such as the gross regional domestic product (GRDP), regional CPI, regional unemployment rates, or number of stand-up comedians by region.\n",
    "\n",
    "Just one last thing, I'm making the output data files of this notebook freely available for anyone to download and use under the [Creative Commons Attribution-ShareAlike 4.0 International (CC BY-SA 4.0) license](https://creativecommons.org/licenses/by-sa/4.0/legalcode), but this only applies to the output files and not the original shape files (which may be governed by another license). Please see this project's README file for more on this."
   ]
  }
 ],
 "metadata": {
  "kernelspec": {
   "display_name": "Python 2",
   "language": "python",
   "name": "python2"
  },
  "language_info": {
   "codemirror_mode": {
    "name": "ipython",
    "version": 2
   },
   "file_extension": ".py",
   "mimetype": "text/x-python",
   "name": "python",
   "nbconvert_exporter": "python",
   "pygments_lexer": "ipython2",
   "version": "2.7.12"
  }
 },
 "nbformat": 4,
 "nbformat_minor": 0
}
